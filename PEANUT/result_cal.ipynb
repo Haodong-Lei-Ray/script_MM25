{
 "cells": [
  {
   "cell_type": "markdown",
   "metadata": {},
   "source": [
    "# 计算 step_compression 和 latency 的均值\n",
    "此脚本从 JSON 数据中提取 `step_compression` 和 `latency` 值，并计算它们的平均值。"
   ]
  },
  {
   "cell_type": "code",
   "execution_count": null,
   "metadata": {},
   "outputs": [
    {
     "name": "stdout",
     "output_type": "stream",
     "text": [
      "Average step_compression: 1.3574834006300494\n",
      "Average latency: 35.000495648384096\n"
     ]
    }
   ],
   "source": [
    "\n",
    "# 导入所需的库\n",
    "import json\n",
    "\n",
    "# 如果数据存储在文件中，可以取消注释以下代码读取\n",
    "file_path = '/home/leihaodong/MM25/script_MM/PEANUT/exp/llamagen_1/eagle_v1/global_statistics_0_10000.json'\n",
    "with open(file_path, 'r') as f:\n",
    "    data = json.load(f)\n",
    "\n",
    "# 提取 step_compression 和 latency 值\n",
    "step_compressions = [data[prompt][\"step_compression\"] for prompt in data]\n",
    "latencies = [data[prompt][\"latency\"] for prompt in data]\n",
    "\n",
    "# 计算均值\n",
    "mean_step_compression = sum(step_compressions) / len(step_compressions)\n",
    "mean_latency = sum(latencies) / len(latencies)\n",
    "\n",
    "# 输出结果\n",
    "print(f\"Average step_compression: {mean_step_compression}\")\n",
    "print(f\"Average latency: {mean_latency}\")"
   ]
  }
 ],
 "metadata": {
  "kernelspec": {
   "display_name": "lantern",
   "language": "python",
   "name": "python3"
  },
  "language_info": {
   "codemirror_mode": {
    "name": "ipython",
    "version": 3
   },
   "file_extension": ".py",
   "mimetype": "text/x-python",
   "name": "python",
   "nbconvert_exporter": "python",
   "pygments_lexer": "ipython3",
   "version": "3.10.16"
  }
 },
 "nbformat": 4,
 "nbformat_minor": 5
}
